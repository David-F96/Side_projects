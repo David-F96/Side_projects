{
 "cells": [
  {
   "cell_type": "markdown",
   "id": "26adddb4",
   "metadata": {},
   "source": [
    "# Python part of the PwC homework"
   ]
  },
  {
   "cell_type": "markdown",
   "id": "7179a2d3",
   "metadata": {},
   "source": [
    "## Data Loading and Cleaning (Python - Pandas)\n",
    "1. Load the dataset into a Pandas DataFrame.\n",
    "2. Perform data cleaning steps: handle missing values and remove duplicates."
   ]
  },
  {
   "cell_type": "code",
   "execution_count": 1,
   "id": "dcbec1e0",
   "metadata": {},
   "outputs": [
    {
     "name": "stdout",
     "output_type": "stream",
     "text": [
      "<class 'pandas.core.frame.DataFrame'>\n",
      "RangeIndex: 96 entries, 0 to 95\n",
      "Data columns (total 9 columns):\n",
      " #   Column           Non-Null Count  Dtype  \n",
      "---  ------           --------------  -----  \n",
      " 0   ProductCategory  96 non-null     object \n",
      " 1   Product          96 non-null     object \n",
      " 2   TotalSales       91 non-null     float64\n",
      " 3   Quantity         96 non-null     int64  \n",
      " 4   Month            96 non-null     object \n",
      " 5   UnitPrice        96 non-null     int64  \n",
      " 6   CustomerID       96 non-null     int64  \n",
      " 7   Discount         96 non-null     float64\n",
      " 8   OrderDate        96 non-null     object \n",
      "dtypes: float64(2), int64(3), object(4)\n",
      "memory usage: 6.9+ KB\n",
      "None\n"
     ]
    }
   ],
   "source": [
    "import pandas as pd\n",
    "import numpy as np\n",
    "from scipy.stats import ttest_ind\n",
    "import seaborn as sns\n",
    "import matplotlib.pyplot as plt\n",
    "from statsmodels.tsa.seasonal import seasonal_decompose\n",
    "\n",
    "data = pd.read_csv('DataSet_for_jupiter_2.csv',sep=',',skiprows=1)\n",
    "print(data.info())"
   ]
  },
  {
   "cell_type": "code",
   "execution_count": 2,
   "id": "c69b43c1",
   "metadata": {},
   "outputs": [
    {
     "name": "stdout",
     "output_type": "stream",
     "text": [
      "<class 'pandas.core.frame.DataFrame'>\n",
      "RangeIndex: 74 entries, 0 to 73\n",
      "Data columns (total 9 columns):\n",
      " #   Column           Non-Null Count  Dtype  \n",
      "---  ------           --------------  -----  \n",
      " 0   ProductCategory  74 non-null     object \n",
      " 1   Product          74 non-null     object \n",
      " 2   TotalSales       70 non-null     float64\n",
      " 3   Quantity         74 non-null     int64  \n",
      " 4   Month            74 non-null     object \n",
      " 5   UnitPrice        74 non-null     int64  \n",
      " 6   CustomerID       74 non-null     int64  \n",
      " 7   Discount         74 non-null     float64\n",
      " 8   OrderDate        74 non-null     object \n",
      "dtypes: float64(2), int64(3), object(4)\n",
      "memory usage: 5.3+ KB\n",
      "None\n"
     ]
    }
   ],
   "source": [
    "#We can see that \"TotalSales\" column has some Null values. Let's delete the duplicates and look once again at the null values\n",
    "#After dropping duplicates we'll also need to reset indexes\n",
    "data_with_no_duplicates=data.drop_duplicates().reset_index(drop = True)\n",
    "print(data_with_no_duplicates.info())"
   ]
  },
  {
   "cell_type": "code",
   "execution_count": 3,
   "id": "a97d656c",
   "metadata": {},
   "outputs": [
    {
     "name": "stdout",
     "output_type": "stream",
     "text": [
      "600.0\n"
     ]
    }
   ],
   "source": [
    "#There are 4 Null values now in the \"TotalSales\" coumn\n",
    "#We'll calculate the median value of the \"TotalSales\" column and will replace the Null values with it\n",
    "#It is done in order to preserve as much data as we can\n",
    "median_ts=data_with_no_duplicates[\"TotalSales\"].median()\n",
    "print(median_ts)"
   ]
  },
  {
   "cell_type": "code",
   "execution_count": 4,
   "id": "ca8eaa31",
   "metadata": {},
   "outputs": [
    {
     "name": "stdout",
     "output_type": "stream",
     "text": [
      "   ProductCategory Product  TotalSales  Quantity    Month  UnitPrice  \\\n",
      "9         Clothing     Hat         NaN         4  2021-05         40   \n",
      "14     Electronics  Router         NaN         8  2021-08         80   \n",
      "30        Clothing  Shorts         NaN         9  2021-07         50   \n",
      "39        Clothing  Shorts         NaN         9  2021-07         50   \n",
      "\n",
      "    CustomerID  Discount   OrderDate  \n",
      "9          110      0.05  2021-05-08  \n",
      "14         115      0.10  2021-08-18  \n",
      "30         114      0.05  2021-07-12  \n",
      "39         114      0.05  2021-07-11  \n"
     ]
    }
   ],
   "source": [
    "#Let's have a look at the rows with Null values in \"TotalSales\" column\n",
    "#There are 4 rows like that as we mentioned before\n",
    "print(data_with_no_duplicates[data_with_no_duplicates[\"TotalSales\"].isnull()==True])"
   ]
  },
  {
   "cell_type": "code",
   "execution_count": 5,
   "id": "5c2de23e",
   "metadata": {},
   "outputs": [
    {
     "name": "stdout",
     "output_type": "stream",
     "text": [
      "   ProductCategory Product  TotalSales  Quantity    Month  UnitPrice  \\\n",
      "9         Clothing     Hat       600.0         4  2021-05         40   \n",
      "14     Electronics  Router       600.0         8  2021-08         80   \n",
      "30        Clothing  Shorts       600.0         9  2021-07         50   \n",
      "39        Clothing  Shorts       600.0         9  2021-07         50   \n",
      "\n",
      "    CustomerID  Discount   OrderDate  \n",
      "9          110      0.05  2021-05-08  \n",
      "14         115      0.10  2021-08-18  \n",
      "30         114      0.05  2021-07-12  \n",
      "39         114      0.05  2021-07-11  \n"
     ]
    }
   ],
   "source": [
    "#We'll insert the median value into the Null values of \"TotalSales\" column\n",
    "#and we'll make sure the values changed by printing out new values\n",
    "df_cleaned=data_with_no_duplicates\n",
    "df_cleaned['TotalSales'] = df_cleaned['TotalSales'].fillna(median_ts)\n",
    "print(df_cleaned.iloc[[9,14,30,39]])"
   ]
  },
  {
   "cell_type": "markdown",
   "id": "bdc0e078",
   "metadata": {},
   "source": [
    "* Calculate the total sales amount for each product.\n",
    "* Find the average selling price for each product category.\n",
    "* Highlight the top 5 products with the highest sales."
   ]
  },
  {
   "cell_type": "code",
   "execution_count": 6,
   "id": "0b7d94fb",
   "metadata": {},
   "outputs": [
    {
     "name": "stdout",
     "output_type": "stream",
     "text": [
      "Product\n",
      "Belt                  300.0\n",
      "Bluetooth Speaker    1500.0\n",
      "Camera               2200.0\n",
      "Dress                 700.0\n",
      "External HDD         3600.0\n",
      "Gloves                400.0\n",
      "Graphics Card        5400.0\n",
      "Hat                  1800.0\n",
      "Headphones            800.0\n",
      "Jeans                1000.0\n",
      "Keyboard             1400.0\n",
      "Laptop               4500.0\n",
      "Mouse                 500.0\n",
      "Printer              2400.0\n",
      "Router               2200.0\n",
      "Scarf                1200.0\n",
      "Shoes                 600.0\n",
      "Shorts               2550.0\n",
      "Smart Thermostat     3600.0\n",
      "Smartphone           2400.0\n",
      "Smartwatch            900.0\n",
      "Socks                 200.0\n",
      "Sunglasses            900.0\n",
      "Sweater              1500.0\n",
      "Swimwear             1800.0\n",
      "T-Shirt               300.0\n",
      "Tablet               1000.0\n",
      "Umbrella              750.0\n",
      "VR Headset           1800.0\n",
      "Winter Jacket        3200.0\n",
      "Name: TotalSales, dtype: float64\n"
     ]
    }
   ],
   "source": [
    "#Let's calculate the total sales per product\n",
    "total_sales_per_product = df_cleaned.groupby('Product')['TotalSales'].sum()\n",
    "print(total_sales_per_product)"
   ]
  },
  {
   "cell_type": "code",
   "execution_count": 7,
   "id": "30e96841",
   "metadata": {},
   "outputs": [
    {
     "name": "stdout",
     "output_type": "stream",
     "text": [
      "  ProductCategory  AverageSellingPrice\n",
      "0        Clothing            78.899083\n",
      "1     Electronics           106.211180\n"
     ]
    }
   ],
   "source": [
    "# In order to find the average selling price for each product category per one product we'll need to \n",
    "# divide the sum of values in \"TotalSales\" column by the sum of values in \"Quantity\" column\n",
    "average_selling_price = df_cleaned.groupby('ProductCategory').apply(lambda x: (x['TotalSales'].sum() / x['Quantity'].sum()))\n",
    "average_selling_price = average_selling_price.rename(\"AverageSellingPrice\").reset_index()\n",
    "print(average_selling_price)"
   ]
  },
  {
   "cell_type": "code",
   "execution_count": 8,
   "id": "9329205f",
   "metadata": {},
   "outputs": [
    {
     "name": "stdout",
     "output_type": "stream",
     "text": [
      "Product\n",
      "Graphics Card       5400.0\n",
      "Laptop              4500.0\n",
      "External HDD        3600.0\n",
      "Smart Thermostat    3600.0\n",
      "Winter Jacket       3200.0\n",
      "Name: TotalSales, dtype: float64\n"
     ]
    }
   ],
   "source": [
    "# Now we'll calculate the top 5 products by the highest sum of sales\n",
    "total_sales_per_product = df_cleaned.groupby('Product')['TotalSales'].sum()\n",
    "top_5_products = total_sales_per_product.nlargest(5)\n",
    "print(top_5_products)"
   ]
  },
  {
   "cell_type": "markdown",
   "id": "f6816276",
   "metadata": {},
   "source": [
    "## Descriptive Statistics (Python - Pandas):\n",
    "1. Calculate descriptive statistics for the 'Quantity' column (mean, median, standard deviation, min, max)."
   ]
  },
  {
   "cell_type": "code",
   "execution_count": 9,
   "id": "1b32cd0f",
   "metadata": {},
   "outputs": [
    {
     "name": "stdout",
     "output_type": "stream",
     "text": [
      "count    74.000000\n",
      "mean      7.297297\n",
      "std       3.280201\n",
      "min       2.000000\n",
      "25%       5.000000\n",
      "50%       7.000000\n",
      "75%       9.000000\n",
      "max      15.000000\n",
      "Name: Quantity, dtype: float64\n"
     ]
    }
   ],
   "source": [
    "quantity_stats = df_cleaned['Quantity'].describe()\n",
    "print(quantity_stats)"
   ]
  },
  {
   "cell_type": "markdown",
   "id": "abb6f865",
   "metadata": {},
   "source": [
    "## Statistical Analysis (Python - Scipy):\n",
    "1. Perform a t-test to compare the average sales of two different product categories. Provide interpretation."
   ]
  },
  {
   "cell_type": "code",
   "execution_count": 10,
   "id": "b1faa3e7",
   "metadata": {},
   "outputs": [
    {
     "name": "stdout",
     "output_type": "stream",
     "text": [
      "T-statistic: 6.7979\n",
      "P-value: 0.0000\n"
     ]
    }
   ],
   "source": [
    "sales_electronics = df_cleaned[df_cleaned['ProductCategory'] == 'Electronics']['TotalSales']\n",
    "sales_clothing = df_cleaned[df_cleaned['ProductCategory'] == 'Clothing']['TotalSales']\n",
    "t_stat, p_value = ttest_ind(sales_electronics, sales_clothing, equal_var=False)\n",
    "\n",
    "print(f\"T-statistic: {t_stat:.4f}\")\n",
    "print(f\"P-value: {p_value:.4f}\")"
   ]
  },
  {
   "cell_type": "markdown",
   "id": "430a5f9b",
   "metadata": {},
   "source": [
    "* We can conclude there is a significant difference in average sales between Electronics and Clothing.\n",
    "* By looking at t-statistic value we can also conclude that the average sales for Electronics are higher"
   ]
  },
  {
   "cell_type": "markdown",
   "id": "640dc23c",
   "metadata": {},
   "source": [
    "##  Correlation Analysis (Python - Pandas):\n",
    "1. Calculate the correlation matrix between numerical columns.\n",
    "2. Identify and visualize the strongest correlation.\n"
   ]
  },
  {
   "cell_type": "code",
   "execution_count": 11,
   "id": "1ec7e029",
   "metadata": {},
   "outputs": [
    {
     "name": "stdout",
     "output_type": "stream",
     "text": [
      "            TotalSales  Quantity  UnitPrice  CustomerID  Discount\n",
      "TotalSales    1.000000  0.822036   0.745257   -0.107850  0.868107\n",
      "Quantity      0.822036  1.000000   0.620512   -0.290668  0.695204\n",
      "UnitPrice     0.745257  0.620512   1.000000   -0.383377  0.636802\n",
      "CustomerID   -0.107850 -0.290668  -0.383377    1.000000 -0.066730\n",
      "Discount      0.868107  0.695204   0.636802   -0.066730  1.000000\n"
     ]
    }
   ],
   "source": [
    "# Let's take a look at the correlation matrix\n",
    "correlation_matrix = df_cleaned.corr()\n",
    "print(correlation_matrix)"
   ]
  },
  {
   "cell_type": "code",
   "execution_count": 12,
   "id": "f9bd7809",
   "metadata": {
    "scrolled": true
   },
   "outputs": [
    {
     "data": {
      "image/png": "[encoded data removed]",
      "text/plain": [
       "<Figure size 1000x800 with 2 Axes>"
      ]
     },
     "metadata": {},
     "output_type": "display_data"
    }
   ],
   "source": [
    "# In order to visualize the correlation matrix better we'll create a heatmap\n",
    "plt.figure(figsize=(10, 8))\n",
    "sns.heatmap(correlation_matrix, annot=True, cmap='coolwarm', fmt='.2f', vmin=-1, vmax=1)\n",
    "\n",
    "plt.title('Correlation Matrix Heatmap')\n",
    "plt.show()"
   ]
  },
  {
   "cell_type": "markdown",
   "id": "678eb5a8",
   "metadata": {},
   "source": [
    "\n",
    "* We can ignore the values of '1' on the diagonal - the correlation of columns with itself will always be 1\n",
    "* We can see, that the highest value of correlation is between 'TotalSales' and 'Discount' columns\n",
    "* This is also correct according to our logic - the more you order the bigger discount you get"
   ]
  },
  {
   "cell_type": "markdown",
   "id": "f8754129",
   "metadata": {},
   "source": [
    "## Data Visualization (Python - Matplotlib/Seaborn):\n",
    "1. Create a bar plot to visualize the total sales for each product category.\n",
    "2. Generate a line plot to show the monthly sales trend.\n"
   ]
  },
  {
   "cell_type": "code",
   "execution_count": 13,
   "id": "e114c68e",
   "metadata": {},
   "outputs": [
    {
     "name": "stdout",
     "output_type": "stream",
     "text": [
      "  ProductCategory  TotalSales\n",
      "0        Clothing     17200.0\n",
      "1     Electronics     34200.0\n"
     ]
    }
   ],
   "source": [
    "# We'll group our cleaned df by 'ProductCategory' and sum the 'TotalSales'\n",
    "total_sales_per_category = df_cleaned.groupby('ProductCategory')['TotalSales'].sum().reset_index()\n",
    "\n",
    "print(total_sales_per_category)"
   ]
  },
  {
   "cell_type": "code",
   "execution_count": 14,
   "id": "9bc0364f",
   "metadata": {},
   "outputs": [
    {
     "data": {
      "image/png": "[encoded data removed]",
      "text/plain": [
       "<Figure size 1000x600 with 1 Axes>"
      ]
     },
     "metadata": {},
     "output_type": "display_data"
    }
   ],
   "source": [
    "# Now we can create a bar plot using seaborn\n",
    "plt.figure(figsize=(10, 6))\n",
    "sns.barplot(x='ProductCategory', y='TotalSales', data=total_sales_per_category, palette='Blues')\n",
    "\n",
    "plt.xlabel('Product Category')\n",
    "plt.ylabel('Total Sales')\n",
    "plt.title('Total Sales by Product Category')\n",
    "\n",
    "plt.xticks(rotation=45)\n",
    "\n",
    "plt.show()"
   ]
  },
  {
   "cell_type": "code",
   "execution_count": 15,
   "id": "d20cde5b",
   "metadata": {},
   "outputs": [
    {
     "name": "stdout",
     "output_type": "stream",
     "text": [
      "   MonthYear  TotalSales\n",
      "0    2021-01      5500.0\n",
      "1    2021-02      2700.0\n",
      "2    2021-03      1400.0\n",
      "3    2021-04      1700.0\n",
      "4    2021-05      2700.0\n",
      "5    2021-06      3700.0\n",
      "6    2021-07      4950.0\n",
      "7    2021-08      3400.0\n",
      "8    2021-09       900.0\n",
      "9    2021-10      1700.0\n",
      "10   2021-11      3800.0\n",
      "11   2021-12      6300.0\n",
      "12   2022-01      2250.0\n",
      "13   2022-02      6800.0\n",
      "14   2022-03      3600.0\n"
     ]
    }
   ],
   "source": [
    "# in order to show monthly sales trend as a graph we'll first ensure 'OrderDate' is in datetime format\n",
    "df_cleaned['OrderDate'] = pd.to_datetime(df_cleaned['OrderDate'])\n",
    "\n",
    "# Now we can group by 'Month' and calculate the total sales for each month\n",
    "monthly_sales = df_cleaned.groupby('Month')['TotalSales'].sum().reset_index()\n",
    "monthly_sales['Month'] = monthly_sales['Month'].astype(str)\n",
    "monthly_sales = monthly_sales.rename(columns={'Month': 'MonthYear'})\n",
    "\n",
    "print(monthly_sales)"
   ]
  },
  {
   "cell_type": "code",
   "execution_count": 16,
   "id": "458c1f70",
   "metadata": {},
   "outputs": [
    {
     "data": {
      "image/png": "[encoded data removed]",
      "text/plain": [
       "<Figure size 1000x600 with 1 Axes>"
      ]
     },
     "metadata": {},
     "output_type": "display_data"
    }
   ],
   "source": [
    "# We'll create the line plot to show monthly sales trend using seaborn\n",
    "plt.figure(figsize=(10, 6))  \n",
    "sns.lineplot(x='MonthYear', y='TotalSales', data=monthly_sales, marker='o', color='green')\n",
    "\n",
    "plt.xlabel('Month')\n",
    "plt.ylabel('Total Sales')\n",
    "plt.title('Monthly Sales Trend')\n",
    "\n",
    "plt.xticks(rotation=45)\n",
    "\n",
    "plt.tight_layout()\n",
    "plt.show()"
   ]
  },
  {
   "cell_type": "markdown",
   "id": "0af57815",
   "metadata": {},
   "source": [
    "##  Time Series Analysis (Python - Statsmodels):\n",
    "1. Use a time series decomposition method to decompose the monthly sales data into trend, seasonality, and residual components.\n",
    "2. Visualize the decomposed time series.\n"
   ]
  },
  {
   "cell_type": "code",
   "execution_count": 17,
   "id": "db0d52d9",
   "metadata": {},
   "outputs": [
    {
     "name": "stdout",
     "output_type": "stream",
     "text": [
      "            TotalSales\n",
      "MonthYear             \n",
      "2021-01-01      5500.0\n",
      "2021-02-01      2700.0\n",
      "2021-03-01      1400.0\n",
      "2021-04-01      1700.0\n",
      "2021-05-01      2700.0\n",
      "2021-06-01      3700.0\n",
      "2021-07-01      4950.0\n",
      "2021-08-01      3400.0\n",
      "2021-09-01       900.0\n",
      "2021-10-01      1700.0\n",
      "2021-11-01      3800.0\n",
      "2021-12-01      6300.0\n",
      "2022-01-01      2250.0\n",
      "2022-02-01      6800.0\n",
      "2022-03-01      3600.0\n"
     ]
    }
   ],
   "source": [
    "# We ensure that this time 'MonthYear' is converted to datetime\n",
    "monthly_sales['MonthYear'] = pd.to_datetime(monthly_sales['MonthYear'])\n",
    "\n",
    "# Now we set the 'MonthYear' column as the index\n",
    "monthly_sales.set_index('MonthYear', inplace=True)\n",
    "\n",
    "print(monthly_sales)"
   ]
  },
  {
   "cell_type": "code",
   "execution_count": 18,
   "id": "05a2349e",
   "metadata": {},
   "outputs": [
    {
     "name": "stdout",
     "output_type": "stream",
     "text": [
      "MonthYear\n",
      "2021-01-01        NaN\n",
      "2021-02-01        NaN\n",
      "2021-03-01    2475.00\n",
      "2021-04-01    2250.00\n",
      "2021-05-01    2818.75\n",
      "Name: trend, dtype: float64 MonthYear\n",
      "2021-01-01   -1210.416667\n",
      "2021-02-01    -212.500000\n",
      "2021-03-01     520.833333\n",
      "2021-04-01     902.083333\n",
      "2021-05-01   -1210.416667\n",
      "Name: seasonal, dtype: float64 MonthYear\n",
      "2021-01-01            NaN\n",
      "2021-02-01            NaN\n",
      "2021-03-01   -1595.833333\n",
      "2021-04-01   -1452.083333\n",
      "2021-05-01    1091.666667\n",
      "Name: resid, dtype: float64\n"
     ]
    }
   ],
   "source": [
    "# Now the data is ready to perform the decomposition with seasonality period of 4 (4 quarters of the year)\n",
    "decomposition = seasonal_decompose(monthly_sales['TotalSales'], model='additive', period=4)\n",
    "\n",
    "trend = decomposition.trend\n",
    "seasonal = decomposition.seasonal\n",
    "residual = decomposition.resid\n",
    "\n",
    "print(trend.head(), seasonal.head(), residual.head())"
   ]
  },
  {
   "cell_type": "code",
   "execution_count": 19,
   "id": "24d9c5f8",
   "metadata": {},
   "outputs": [
    {
     "data": {
      "image/png": "[encoded data removed]",
      "text/plain": [
       "<Figure size 1200x1000 with 4 Axes>"
      ]
     },
     "metadata": {},
     "output_type": "display_data"
    }
   ],
   "source": [
    "# Here we plot the decomposed components\n",
    "plt.figure(figsize=(12, 10))\n",
    "\n",
    "# Plot Trend\n",
    "plt.subplot(411)\n",
    "plt.plot(decomposition.trend)\n",
    "plt.title('Trend Component')\n",
    "\n",
    "# Plot Seasonal\n",
    "plt.subplot(412)\n",
    "plt.plot(decomposition.seasonal)\n",
    "plt.title('Seasonal Component')\n",
    "\n",
    "# Plot Residual\n",
    "plt.subplot(413)\n",
    "plt.plot(decomposition.resid)\n",
    "plt.title('Residual Component')\n",
    "\n",
    "# Plot Original Data\n",
    "plt.subplot(414)\n",
    "plt.plot(monthly_sales['TotalSales'])\n",
    "plt.title('Original Data')\n",
    "\n",
    "# Show the plots\n",
    "plt.tight_layout()\n",
    "plt.show()"
   ]
  },
  {
   "cell_type": "code",
   "execution_count": null,
   "id": "fbc9c21f",
   "metadata": {},
   "outputs": [],
   "source": []
  }
 ],
 "metadata": {
  "ExecuteTimeLog": [
   {
    "duration": 311,
    "start_time": "2025-02-10T14:21:00.668Z"
   },
   {
    "duration": 530,
    "start_time": "2025-02-10T14:24:11.632Z"
   },
   {
    "duration": 3,
    "start_time": "2025-02-10T14:26:28.341Z"
   },
   {
    "duration": 5,
    "start_time": "2025-02-10T14:26:38.097Z"
   },
   {
    "duration": 13,
    "start_time": "2025-02-10T14:27:17.229Z"
   },
   {
    "duration": 12,
    "start_time": "2025-02-10T14:27:40.614Z"
   },
   {
    "duration": 14,
    "start_time": "2025-02-10T14:27:48.890Z"
   },
   {
    "duration": 3,
    "start_time": "2025-02-10T14:30:11.199Z"
   },
   {
    "duration": 12,
    "start_time": "2025-02-10T14:34:14.389Z"
   },
   {
    "duration": 14,
    "start_time": "2025-02-10T14:34:22.057Z"
   },
   {
    "duration": 3,
    "start_time": "2025-02-10T14:35:04.209Z"
   },
   {
    "duration": 13,
    "start_time": "2025-02-10T14:35:05.907Z"
   },
   {
    "duration": 4,
    "start_time": "2025-02-10T14:38:04.312Z"
   },
   {
    "duration": 10,
    "start_time": "2025-02-10T14:38:21.550Z"
   },
   {
    "duration": 13,
    "start_time": "2025-02-10T14:38:37.228Z"
   },
   {
    "duration": 12,
    "start_time": "2025-02-10T14:39:44.330Z"
   },
   {
    "duration": 10,
    "start_time": "2025-02-10T14:40:39.659Z"
   },
   {
    "duration": 10,
    "start_time": "2025-02-10T14:42:20.471Z"
   },
   {
    "duration": 10,
    "start_time": "2025-02-10T14:42:38.459Z"
   },
   {
    "duration": 9,
    "start_time": "2025-02-10T14:42:52.668Z"
   },
   {
    "duration": 18,
    "start_time": "2025-02-10T14:43:20.928Z"
   },
   {
    "duration": 11,
    "start_time": "2025-02-10T14:43:25.439Z"
   },
   {
    "duration": 14,
    "start_time": "2025-02-10T14:43:34.288Z"
   },
   {
    "duration": 11,
    "start_time": "2025-02-10T14:43:39.966Z"
   },
   {
    "duration": 434,
    "start_time": "2025-02-10T14:43:59.050Z"
   },
   {
    "duration": 41,
    "start_time": "2025-02-10T14:44:21.392Z"
   },
   {
    "duration": 37,
    "start_time": "2025-02-10T14:45:25.164Z"
   },
   {
    "duration": 40,
    "start_time": "2025-02-10T14:46:13.775Z"
   },
   {
    "duration": 5,
    "start_time": "2025-02-10T14:46:18.042Z"
   },
   {
    "duration": 9,
    "start_time": "2025-02-10T14:46:21.442Z"
   },
   {
    "duration": 6,
    "start_time": "2025-02-10T14:46:38.471Z"
   },
   {
    "duration": 6,
    "start_time": "2025-02-10T14:49:02.472Z"
   },
   {
    "duration": 12,
    "start_time": "2025-02-10T14:50:34.246Z"
   },
   {
    "duration": 75,
    "start_time": "2025-02-10T14:54:12.083Z"
   },
   {
    "duration": 100,
    "start_time": "2025-02-10T14:54:24.465Z"
   },
   {
    "duration": 42,
    "start_time": "2025-02-10T14:54:27.463Z"
   },
   {
    "duration": 12,
    "start_time": "2025-02-10T14:55:01.284Z"
   },
   {
    "duration": 378,
    "start_time": "2025-02-10T14:57:00.981Z"
   },
   {
    "duration": 4,
    "start_time": "2025-02-10T14:57:31.221Z"
   },
   {
    "duration": 10,
    "start_time": "2025-02-10T14:57:39.235Z"
   },
   {
    "duration": 11,
    "start_time": "2025-02-10T14:57:52.853Z"
   },
   {
    "duration": 6,
    "start_time": "2025-02-10T14:58:07.088Z"
   },
   {
    "duration": 36,
    "start_time": "2025-02-10T14:58:14.519Z"
   },
   {
    "duration": 3,
    "start_time": "2025-02-10T14:58:52.159Z"
   },
   {
    "duration": 8,
    "start_time": "2025-02-10T14:59:48.446Z"
   },
   {
    "duration": 13,
    "start_time": "2025-02-10T15:04:21.324Z"
   },
   {
    "duration": 3,
    "start_time": "2025-02-10T15:04:41.926Z"
   },
   {
    "duration": 10,
    "start_time": "2025-02-10T15:04:42.675Z"
   },
   {
    "duration": 8,
    "start_time": "2025-02-10T15:04:43.408Z"
   },
   {
    "duration": 3,
    "start_time": "2025-02-10T15:04:52.215Z"
   },
   {
    "duration": 6,
    "start_time": "2025-02-10T15:05:16.785Z"
   },
   {
    "duration": 8,
    "start_time": "2025-02-10T15:05:33.795Z"
   },
   {
    "duration": 13,
    "start_time": "2025-02-10T15:05:55.102Z"
   },
   {
    "duration": 10,
    "start_time": "2025-02-10T15:07:32.777Z"
   },
   {
    "duration": 11,
    "start_time": "2025-02-10T15:07:44.120Z"
   },
   {
    "duration": 2,
    "start_time": "2025-02-10T15:08:29.996Z"
   },
   {
    "duration": 4,
    "start_time": "2025-02-10T15:10:27.670Z"
   },
   {
    "duration": 4,
    "start_time": "2025-02-10T15:11:08.702Z"
   },
   {
    "duration": 12,
    "start_time": "2025-02-10T15:11:19.971Z"
   },
   {
    "duration": 6,
    "start_time": "2025-02-10T15:11:31.654Z"
   },
   {
    "duration": 8,
    "start_time": "2025-02-10T15:13:02.272Z"
   },
   {
    "duration": 6,
    "start_time": "2025-02-10T15:13:26.993Z"
   },
   {
    "duration": 13,
    "start_time": "2025-02-10T15:15:33.743Z"
   },
   {
    "duration": 9,
    "start_time": "2025-02-10T15:15:40.372Z"
   },
   {
    "duration": 10,
    "start_time": "2025-02-10T15:16:22.978Z"
   },
   {
    "duration": 5,
    "start_time": "2025-02-10T15:18:54.586Z"
   },
   {
    "duration": 127,
    "start_time": "2025-02-10T15:19:26.626Z"
   },
   {
    "duration": 54,
    "start_time": "2025-02-10T15:19:46.638Z"
   },
   {
    "duration": 37,
    "start_time": "2025-02-10T15:22:16.306Z"
   },
   {
    "duration": 6,
    "start_time": "2025-02-10T15:22:41.021Z"
   },
   {
    "duration": 6,
    "start_time": "2025-02-10T15:24:14.617Z"
   },
   {
    "duration": 3,
    "start_time": "2025-02-10T15:26:56.649Z"
   },
   {
    "duration": 6,
    "start_time": "2025-02-10T15:27:15.698Z"
   },
   {
    "duration": 6,
    "start_time": "2025-02-10T15:27:49.571Z"
   },
   {
    "duration": 11,
    "start_time": "2025-02-10T15:38:47.157Z"
   },
   {
    "duration": 3,
    "start_time": "2025-02-10T15:38:50.208Z"
   },
   {
    "duration": 7,
    "start_time": "2025-02-10T15:38:56.242Z"
   },
   {
    "duration": 11,
    "start_time": "2025-02-10T15:39:11.483Z"
   },
   {
    "duration": 6,
    "start_time": "2025-02-10T15:39:22.694Z"
   },
   {
    "duration": 7,
    "start_time": "2025-02-10T15:40:54.685Z"
   },
   {
    "duration": 13,
    "start_time": "2025-02-10T15:41:54.103Z"
   },
   {
    "duration": 15,
    "start_time": "2025-02-10T15:42:07.611Z"
   },
   {
    "duration": 6,
    "start_time": "2025-02-10T15:42:18.825Z"
   },
   {
    "duration": 2,
    "start_time": "2025-02-10T15:45:15.115Z"
   },
   {
    "duration": 2,
    "start_time": "2025-02-10T15:45:21.304Z"
   },
   {
    "duration": 2,
    "start_time": "2025-02-10T15:45:42.623Z"
   },
   {
    "duration": 4,
    "start_time": "2025-02-10T15:46:34.579Z"
   },
   {
    "duration": 2,
    "start_time": "2025-02-10T15:46:40.945Z"
   },
   {
    "duration": 2,
    "start_time": "2025-02-10T15:47:04.098Z"
   },
   {
    "duration": 12,
    "start_time": "2025-02-10T15:47:10.302Z"
   },
   {
    "duration": 2,
    "start_time": "2025-02-10T15:47:10.987Z"
   },
   {
    "duration": 12,
    "start_time": "2025-02-10T15:47:11.856Z"
   },
   {
    "duration": 3,
    "start_time": "2025-02-10T15:47:12.809Z"
   },
   {
    "duration": 6,
    "start_time": "2025-02-10T15:47:13.432Z"
   },
   {
    "duration": 7,
    "start_time": "2025-02-10T15:47:14.071Z"
   },
   {
    "duration": 2,
    "start_time": "2025-02-10T15:47:39.055Z"
   },
   {
    "duration": 2,
    "start_time": "2025-02-10T15:48:09.956Z"
   },
   {
    "duration": 2,
    "start_time": "2025-02-10T15:48:21.040Z"
   },
   {
    "duration": 2,
    "start_time": "2025-02-10T15:48:21.973Z"
   },
   {
    "duration": 2,
    "start_time": "2025-02-10T15:48:22.665Z"
   },
   {
    "duration": 2,
    "start_time": "2025-02-10T15:48:24.126Z"
   },
   {
    "duration": 2,
    "start_time": "2025-02-10T15:48:25.949Z"
   },
   {
    "duration": 309,
    "start_time": "2025-02-10T15:48:44.388Z"
   },
   {
    "duration": 2,
    "start_time": "2025-02-10T15:48:44.699Z"
   },
   {
    "duration": 10,
    "start_time": "2025-02-10T15:48:44.703Z"
   },
   {
    "duration": 4,
    "start_time": "2025-02-10T15:48:44.715Z"
   },
   {
    "duration": 9,
    "start_time": "2025-02-10T15:48:44.732Z"
   },
   {
    "duration": 6,
    "start_time": "2025-02-10T15:48:44.743Z"
   },
   {
    "duration": 2,
    "start_time": "2025-02-10T15:48:59.904Z"
   },
   {
    "duration": 6,
    "start_time": "2025-02-10T15:50:05.780Z"
   },
   {
    "duration": 5,
    "start_time": "2025-02-10T15:52:09.180Z"
   },
   {
    "duration": 7,
    "start_time": "2025-02-10T15:56:27.827Z"
   },
   {
    "duration": 8,
    "start_time": "2025-02-10T15:56:42.430Z"
   },
   {
    "duration": 7,
    "start_time": "2025-02-10T16:04:39.394Z"
   },
   {
    "duration": 7,
    "start_time": "2025-02-10T16:04:45.875Z"
   },
   {
    "duration": 5,
    "start_time": "2025-02-10T16:06:25.437Z"
   },
   {
    "duration": 5,
    "start_time": "2025-02-10T16:07:51.632Z"
   },
   {
    "duration": 2,
    "start_time": "2025-02-10T16:10:36.902Z"
   },
   {
    "duration": 3,
    "start_time": "2025-02-10T16:11:41.058Z"
   },
   {
    "duration": 84,
    "start_time": "2025-02-10T16:11:44.835Z"
   },
   {
    "duration": 423,
    "start_time": "2025-02-10T16:12:02.396Z"
   },
   {
    "duration": 7,
    "start_time": "2025-02-10T16:12:51.772Z"
   },
   {
    "duration": 6,
    "start_time": "2025-02-10T16:14:00.714Z"
   },
   {
    "duration": 299,
    "start_time": "2025-02-10T16:15:41.103Z"
   },
   {
    "duration": 7,
    "start_time": "2025-02-10T16:18:30.651Z"
   },
   {
    "duration": 3,
    "start_time": "2025-02-10T16:24:55.661Z"
   },
   {
    "duration": 6,
    "start_time": "2025-02-10T16:25:08.619Z"
   },
   {
    "duration": 2085,
    "start_time": "2025-02-10T16:26:30.877Z"
   },
   {
    "duration": 326,
    "start_time": "2025-02-10T16:27:00.396Z"
   },
   {
    "duration": 6,
    "start_time": "2025-02-10T16:34:10.788Z"
   },
   {
    "duration": 114,
    "start_time": "2025-02-10T16:35:18.009Z"
   },
   {
    "duration": 58,
    "start_time": "2025-02-10T16:36:48.310Z"
   },
   {
    "duration": 16,
    "start_time": "2025-02-10T16:36:51.413Z"
   },
   {
    "duration": 10,
    "start_time": "2025-02-10T16:37:12.932Z"
   },
   {
    "duration": 851,
    "start_time": "2025-02-10T16:38:14.281Z"
   },
   {
    "duration": 177,
    "start_time": "2025-02-10T16:39:22.330Z"
   },
   {
    "duration": 170,
    "start_time": "2025-02-10T16:41:48.988Z"
   },
   {
    "duration": 8,
    "start_time": "2025-02-10T16:42:09.664Z"
   },
   {
    "duration": 169,
    "start_time": "2025-02-10T16:42:25.972Z"
   },
   {
    "duration": 8,
    "start_time": "2025-02-10T16:44:14.658Z"
   },
   {
    "duration": 329,
    "start_time": "2025-02-10T16:44:15.902Z"
   },
   {
    "duration": 9,
    "start_time": "2025-02-10T16:47:55.832Z"
   },
   {
    "duration": 3,
    "start_time": "2025-02-10T16:48:43.633Z"
   },
   {
    "duration": 5,
    "start_time": "2025-02-10T16:49:26.101Z"
   },
   {
    "duration": 3,
    "start_time": "2025-02-10T16:51:04.369Z"
   },
   {
    "duration": 5,
    "start_time": "2025-02-10T16:51:18.259Z"
   },
   {
    "duration": 7,
    "start_time": "2025-02-10T16:51:39.455Z"
   },
   {
    "duration": 5,
    "start_time": "2025-02-10T16:52:12.559Z"
   },
   {
    "duration": 8,
    "start_time": "2025-02-10T16:53:35.906Z"
   },
   {
    "duration": 261,
    "start_time": "2025-02-10T16:53:40.154Z"
   },
   {
    "duration": 3,
    "start_time": "2025-02-10T16:54:09.685Z"
   },
   {
    "duration": 810,
    "start_time": "2025-02-10T16:54:09.690Z"
   },
   {
    "duration": 9,
    "start_time": "2025-02-10T16:54:10.502Z"
   },
   {
    "duration": 4,
    "start_time": "2025-02-10T16:54:10.512Z"
   },
   {
    "duration": 19,
    "start_time": "2025-02-10T16:54:10.519Z"
   },
   {
    "duration": 6,
    "start_time": "2025-02-10T16:54:10.539Z"
   },
   {
    "duration": 2,
    "start_time": "2025-02-10T16:54:10.547Z"
   },
   {
    "duration": 5,
    "start_time": "2025-02-10T16:54:10.551Z"
   },
   {
    "duration": 5,
    "start_time": "2025-02-10T16:54:10.558Z"
   },
   {
    "duration": 6,
    "start_time": "2025-02-10T16:54:10.565Z"
   },
   {
    "duration": 4,
    "start_time": "2025-02-10T16:54:10.573Z"
   },
   {
    "duration": 2,
    "start_time": "2025-02-10T16:54:10.579Z"
   },
   {
    "duration": 5,
    "start_time": "2025-02-10T16:54:10.584Z"
   },
   {
    "duration": 7,
    "start_time": "2025-02-10T16:54:10.632Z"
   },
   {
    "duration": 4,
    "start_time": "2025-02-10T16:54:10.641Z"
   },
   {
    "duration": 3,
    "start_time": "2025-02-10T16:54:10.647Z"
   },
   {
    "duration": 7,
    "start_time": "2025-02-10T16:54:10.651Z"
   },
   {
    "duration": 344,
    "start_time": "2025-02-10T16:54:10.660Z"
   },
   {
    "duration": 2,
    "start_time": "2025-02-10T16:54:11.006Z"
   },
   {
    "duration": 6,
    "start_time": "2025-02-10T16:54:11.010Z"
   },
   {
    "duration": 132,
    "start_time": "2025-02-10T16:54:11.017Z"
   },
   {
    "duration": 9,
    "start_time": "2025-02-10T16:54:11.151Z"
   },
   {
    "duration": 367,
    "start_time": "2025-02-10T16:54:11.161Z"
   },
   {
    "duration": 6,
    "start_time": "2025-02-10T16:54:11.530Z"
   },
   {
    "duration": 8,
    "start_time": "2025-02-10T16:55:19.779Z"
   },
   {
    "duration": 8,
    "start_time": "2025-02-10T16:56:02.608Z"
   },
   {
    "duration": 9,
    "start_time": "2025-02-10T16:56:19.530Z"
   },
   {
    "duration": 8,
    "start_time": "2025-02-10T16:57:45.096Z"
   },
   {
    "duration": 298,
    "start_time": "2025-02-10T16:57:49.895Z"
   },
   {
    "duration": 4,
    "start_time": "2025-02-10T18:11:52.850Z"
   },
   {
    "duration": 836,
    "start_time": "2025-02-10T18:11:52.856Z"
   },
   {
    "duration": 10,
    "start_time": "2025-02-10T18:11:53.694Z"
   },
   {
    "duration": 2,
    "start_time": "2025-02-10T18:11:53.707Z"
   },
   {
    "duration": 22,
    "start_time": "2025-02-10T18:11:53.711Z"
   },
   {
    "duration": 6,
    "start_time": "2025-02-10T18:11:53.735Z"
   },
   {
    "duration": 3,
    "start_time": "2025-02-10T18:11:53.743Z"
   },
   {
    "duration": 5,
    "start_time": "2025-02-10T18:11:53.747Z"
   },
   {
    "duration": 4,
    "start_time": "2025-02-10T18:11:53.754Z"
   },
   {
    "duration": 8,
    "start_time": "2025-02-10T18:11:53.762Z"
   },
   {
    "duration": 6,
    "start_time": "2025-02-10T18:11:53.771Z"
   },
   {
    "duration": 3,
    "start_time": "2025-02-10T18:11:53.778Z"
   },
   {
    "duration": 5,
    "start_time": "2025-02-10T18:11:53.783Z"
   },
   {
    "duration": 6,
    "start_time": "2025-02-10T18:11:53.830Z"
   },
   {
    "duration": 3,
    "start_time": "2025-02-10T18:11:53.838Z"
   },
   {
    "duration": 3,
    "start_time": "2025-02-10T18:11:53.843Z"
   },
   {
    "duration": 6,
    "start_time": "2025-02-10T18:11:53.848Z"
   },
   {
    "duration": 354,
    "start_time": "2025-02-10T18:11:53.855Z"
   },
   {
    "duration": 2,
    "start_time": "2025-02-10T18:11:54.212Z"
   },
   {
    "duration": 19,
    "start_time": "2025-02-10T18:11:54.216Z"
   },
   {
    "duration": 123,
    "start_time": "2025-02-10T18:11:54.237Z"
   },
   {
    "duration": 8,
    "start_time": "2025-02-10T18:11:54.363Z"
   },
   {
    "duration": 350,
    "start_time": "2025-02-10T18:11:54.373Z"
   },
   {
    "duration": 3,
    "start_time": "2025-02-10T18:11:54.725Z"
   },
   {
    "duration": 7,
    "start_time": "2025-02-10T18:11:54.729Z"
   },
   {
    "duration": 625,
    "start_time": "2025-02-10T18:12:15.218Z"
   },
   {
    "duration": 3,
    "start_time": "2025-02-10T18:12:44.377Z"
   },
   {
    "duration": 818,
    "start_time": "2025-02-10T18:12:44.382Z"
   },
   {
    "duration": 11,
    "start_time": "2025-02-10T18:12:45.201Z"
   },
   {
    "duration": 4,
    "start_time": "2025-02-10T18:12:45.213Z"
   },
   {
    "duration": 7,
    "start_time": "2025-02-10T18:12:45.231Z"
   },
   {
    "duration": 6,
    "start_time": "2025-02-10T18:12:45.239Z"
   },
   {
    "duration": 3,
    "start_time": "2025-02-10T18:12:45.247Z"
   },
   {
    "duration": 6,
    "start_time": "2025-02-10T18:12:45.251Z"
   },
   {
    "duration": 6,
    "start_time": "2025-02-10T18:12:45.258Z"
   },
   {
    "duration": 6,
    "start_time": "2025-02-10T18:12:45.266Z"
   },
   {
    "duration": 5,
    "start_time": "2025-02-10T18:12:45.274Z"
   },
   {
    "duration": 2,
    "start_time": "2025-02-10T18:12:45.281Z"
   },
   {
    "duration": 49,
    "start_time": "2025-02-10T18:12:45.287Z"
   },
   {
    "duration": 6,
    "start_time": "2025-02-10T18:12:45.337Z"
   },
   {
    "duration": 3,
    "start_time": "2025-02-10T18:12:45.344Z"
   },
   {
    "duration": 3,
    "start_time": "2025-02-10T18:12:45.349Z"
   },
   {
    "duration": 6,
    "start_time": "2025-02-10T18:12:45.353Z"
   },
   {
    "duration": 339,
    "start_time": "2025-02-10T18:12:45.361Z"
   },
   {
    "duration": 2,
    "start_time": "2025-02-10T18:12:45.702Z"
   },
   {
    "duration": 6,
    "start_time": "2025-02-10T18:12:45.706Z"
   },
   {
    "duration": 128,
    "start_time": "2025-02-10T18:12:45.714Z"
   },
   {
    "duration": 8,
    "start_time": "2025-02-10T18:12:45.844Z"
   },
   {
    "duration": 382,
    "start_time": "2025-02-10T18:12:45.854Z"
   },
   {
    "duration": 2,
    "start_time": "2025-02-10T18:12:46.238Z"
   },
   {
    "duration": 6,
    "start_time": "2025-02-10T18:12:46.241Z"
   },
   {
    "duration": 259,
    "start_time": "2025-02-10T18:13:16.042Z"
   },
   {
    "duration": 3,
    "start_time": "2025-02-10T18:13:50.520Z"
   },
   {
    "duration": 817,
    "start_time": "2025-02-10T18:13:50.524Z"
   },
   {
    "duration": 10,
    "start_time": "2025-02-10T18:13:51.343Z"
   },
   {
    "duration": 4,
    "start_time": "2025-02-10T18:13:51.355Z"
   },
   {
    "duration": 7,
    "start_time": "2025-02-10T18:13:51.360Z"
   },
   {
    "duration": 7,
    "start_time": "2025-02-10T18:13:51.369Z"
   },
   {
    "duration": 2,
    "start_time": "2025-02-10T18:13:51.378Z"
   },
   {
    "duration": 6,
    "start_time": "2025-02-10T18:13:51.382Z"
   },
   {
    "duration": 5,
    "start_time": "2025-02-10T18:13:51.389Z"
   },
   {
    "duration": 8,
    "start_time": "2025-02-10T18:13:51.432Z"
   },
   {
    "duration": 5,
    "start_time": "2025-02-10T18:13:51.441Z"
   },
   {
    "duration": 3,
    "start_time": "2025-02-10T18:13:51.448Z"
   },
   {
    "duration": 6,
    "start_time": "2025-02-10T18:13:51.452Z"
   },
   {
    "duration": 5,
    "start_time": "2025-02-10T18:13:51.460Z"
   },
   {
    "duration": 4,
    "start_time": "2025-02-10T18:13:51.466Z"
   },
   {
    "duration": 4,
    "start_time": "2025-02-10T18:13:51.471Z"
   },
   {
    "duration": 6,
    "start_time": "2025-02-10T18:13:51.476Z"
   },
   {
    "duration": 394,
    "start_time": "2025-02-10T18:13:51.483Z"
   },
   {
    "duration": 2,
    "start_time": "2025-02-10T18:13:51.880Z"
   },
   {
    "duration": 6,
    "start_time": "2025-02-10T18:13:51.884Z"
   },
   {
    "duration": 141,
    "start_time": "2025-02-10T18:13:51.892Z"
   },
   {
    "duration": 7,
    "start_time": "2025-02-10T18:13:52.035Z"
   },
   {
    "duration": 372,
    "start_time": "2025-02-10T18:13:52.044Z"
   },
   {
    "duration": 2,
    "start_time": "2025-02-10T18:13:52.418Z"
   },
   {
    "duration": 6,
    "start_time": "2025-02-10T18:13:52.422Z"
   },
   {
    "duration": 250,
    "start_time": "2025-02-10T18:13:52.429Z"
   },
   {
    "duration": 14,
    "start_time": "2025-02-10T18:14:53.752Z"
   },
   {
    "duration": 2,
    "start_time": "2025-02-10T18:16:57.706Z"
   },
   {
    "duration": 818,
    "start_time": "2025-02-10T18:16:57.712Z"
   },
   {
    "duration": 11,
    "start_time": "2025-02-10T18:16:58.532Z"
   },
   {
    "duration": 4,
    "start_time": "2025-02-10T18:16:58.544Z"
   },
   {
    "duration": 8,
    "start_time": "2025-02-10T18:16:58.550Z"
   },
   {
    "duration": 7,
    "start_time": "2025-02-10T18:16:58.562Z"
   },
   {
    "duration": 2,
    "start_time": "2025-02-10T18:16:58.571Z"
   },
   {
    "duration": 6,
    "start_time": "2025-02-10T18:16:58.574Z"
   },
   {
    "duration": 6,
    "start_time": "2025-02-10T18:16:58.581Z"
   },
   {
    "duration": 44,
    "start_time": "2025-02-10T18:16:58.588Z"
   },
   {
    "duration": 6,
    "start_time": "2025-02-10T18:16:58.634Z"
   },
   {
    "duration": 2,
    "start_time": "2025-02-10T18:16:58.642Z"
   },
   {
    "duration": 6,
    "start_time": "2025-02-10T18:16:58.646Z"
   },
   {
    "duration": 5,
    "start_time": "2025-02-10T18:16:58.654Z"
   },
   {
    "duration": 2,
    "start_time": "2025-02-10T18:16:58.663Z"
   },
   {
    "duration": 3,
    "start_time": "2025-02-10T18:16:58.666Z"
   },
   {
    "duration": 7,
    "start_time": "2025-02-10T18:16:58.670Z"
   },
   {
    "duration": 380,
    "start_time": "2025-02-10T18:16:58.678Z"
   },
   {
    "duration": 2,
    "start_time": "2025-02-10T18:16:59.060Z"
   },
   {
    "duration": 7,
    "start_time": "2025-02-10T18:16:59.064Z"
   },
   {
    "duration": 128,
    "start_time": "2025-02-10T18:16:59.072Z"
   },
   {
    "duration": 9,
    "start_time": "2025-02-10T18:16:59.202Z"
   },
   {
    "duration": 335,
    "start_time": "2025-02-10T18:16:59.213Z"
   },
   {
    "duration": 2,
    "start_time": "2025-02-10T18:16:59.550Z"
   },
   {
    "duration": 7,
    "start_time": "2025-02-10T18:16:59.554Z"
   },
   {
    "duration": 254,
    "start_time": "2025-02-10T18:16:59.563Z"
   },
   {
    "duration": 146,
    "start_time": "2025-02-10T18:21:47.171Z"
   },
   {
    "duration": 51,
    "start_time": "2025-02-10T18:22:38.308Z"
   },
   {
    "duration": 380,
    "start_time": "2025-02-10T18:25:43.416Z"
   },
   {
    "duration": 44,
    "start_time": "2025-02-10T18:26:41.593Z"
   },
   {
    "duration": 2,
    "start_time": "2025-02-10T18:27:34.107Z"
   },
   {
    "duration": 25,
    "start_time": "2025-02-10T18:28:07.621Z"
   },
   {
    "duration": 6,
    "start_time": "2025-02-10T18:29:57.220Z"
   },
   {
    "duration": 3,
    "start_time": "2025-02-10T18:31:16.714Z"
   },
   {
    "duration": 16,
    "start_time": "2025-02-10T18:32:35.927Z"
   },
   {
    "duration": 8,
    "start_time": "2025-02-10T18:33:26.253Z"
   },
   {
    "duration": 27,
    "start_time": "2025-02-10T18:35:37.559Z"
   },
   {
    "duration": 7,
    "start_time": "2025-02-10T18:35:46.888Z"
   },
   {
    "duration": 25,
    "start_time": "2025-02-10T18:36:23.391Z"
   },
   {
    "duration": 25,
    "start_time": "2025-02-10T18:36:29.056Z"
   },
   {
    "duration": 6,
    "start_time": "2025-02-10T18:36:33.512Z"
   },
   {
    "duration": 7,
    "start_time": "2025-02-10T18:36:46.547Z"
   },
   {
    "duration": 6,
    "start_time": "2025-02-10T18:37:42.937Z"
   },
   {
    "duration": 585,
    "start_time": "2025-02-10T18:38:31.182Z"
   },
   {
    "duration": 2,
    "start_time": "2025-02-10T18:45:42.984Z"
   },
   {
    "duration": 3,
    "start_time": "2025-02-10T18:45:51.156Z"
   },
   {
    "duration": 866,
    "start_time": "2025-02-10T18:45:51.162Z"
   },
   {
    "duration": 10,
    "start_time": "2025-02-10T18:45:52.030Z"
   },
   {
    "duration": 3,
    "start_time": "2025-02-10T18:45:52.042Z"
   },
   {
    "duration": 7,
    "start_time": "2025-02-10T18:45:52.047Z"
   },
   {
    "duration": 5,
    "start_time": "2025-02-10T18:45:52.056Z"
   },
   {
    "duration": 2,
    "start_time": "2025-02-10T18:45:52.063Z"
   },
   {
    "duration": 6,
    "start_time": "2025-02-10T18:45:52.067Z"
   },
   {
    "duration": 7,
    "start_time": "2025-02-10T18:45:52.074Z"
   },
   {
    "duration": 5,
    "start_time": "2025-02-10T18:45:52.083Z"
   },
   {
    "duration": 44,
    "start_time": "2025-02-10T18:45:52.089Z"
   },
   {
    "duration": 7,
    "start_time": "2025-02-10T18:45:52.135Z"
   },
   {
    "duration": 4,
    "start_time": "2025-02-10T18:45:52.143Z"
   },
   {
    "duration": 6,
    "start_time": "2025-02-10T18:45:52.151Z"
   },
   {
    "duration": 3,
    "start_time": "2025-02-10T18:45:52.158Z"
   },
   {
    "duration": 2,
    "start_time": "2025-02-10T18:45:52.163Z"
   },
   {
    "duration": 5,
    "start_time": "2025-02-10T18:45:52.167Z"
   },
   {
    "duration": 361,
    "start_time": "2025-02-10T18:45:52.174Z"
   },
   {
    "duration": 3,
    "start_time": "2025-02-10T18:45:52.537Z"
   },
   {
    "duration": 7,
    "start_time": "2025-02-10T18:45:52.541Z"
   },
   {
    "duration": 129,
    "start_time": "2025-02-10T18:45:52.550Z"
   },
   {
    "duration": 8,
    "start_time": "2025-02-10T18:45:52.683Z"
   },
   {
    "duration": 355,
    "start_time": "2025-02-10T18:45:52.693Z"
   },
   {
    "duration": 3,
    "start_time": "2025-02-10T18:45:53.050Z"
   },
   {
    "duration": 8,
    "start_time": "2025-02-10T18:45:53.054Z"
   },
   {
    "duration": 7,
    "start_time": "2025-02-10T18:45:53.064Z"
   },
   {
    "duration": 590,
    "start_time": "2025-02-10T18:45:53.073Z"
   },
   {
    "duration": 3,
    "start_time": "2025-02-10T18:46:45.686Z"
   },
   {
    "duration": 2,
    "start_time": "2025-02-10T18:46:50.770Z"
   },
   {
    "duration": 2,
    "start_time": "2025-02-10T18:46:58.059Z"
   },
   {
    "duration": 5,
    "start_time": "2025-02-10T18:47:49.185Z"
   },
   {
    "duration": 3,
    "start_time": "2025-02-10T18:51:47.874Z"
   },
   {
    "duration": 879,
    "start_time": "2025-02-10T19:36:13.437Z"
   },
   {
    "duration": 16,
    "start_time": "2025-02-10T19:36:14.318Z"
   },
   {
    "duration": 4,
    "start_time": "2025-02-10T19:36:14.336Z"
   },
   {
    "duration": 9,
    "start_time": "2025-02-10T19:36:14.342Z"
   },
   {
    "duration": 9,
    "start_time": "2025-02-10T19:36:14.353Z"
   },
   {
    "duration": 4,
    "start_time": "2025-02-10T19:36:14.365Z"
   },
   {
    "duration": 8,
    "start_time": "2025-02-10T19:36:14.372Z"
   },
   {
    "duration": 5,
    "start_time": "2025-02-10T19:36:14.381Z"
   },
   {
    "duration": 44,
    "start_time": "2025-02-10T19:36:14.388Z"
   },
   {
    "duration": 5,
    "start_time": "2025-02-10T19:36:14.435Z"
   },
   {
    "duration": 5,
    "start_time": "2025-02-10T19:36:14.442Z"
   },
   {
    "duration": 3,
    "start_time": "2025-02-10T19:36:14.449Z"
   },
   {
    "duration": 5,
    "start_time": "2025-02-10T19:36:14.454Z"
   },
   {
    "duration": 346,
    "start_time": "2025-02-10T19:36:14.460Z"
   },
   {
    "duration": 3,
    "start_time": "2025-02-10T19:36:14.808Z"
   },
   {
    "duration": 6,
    "start_time": "2025-02-10T19:36:14.813Z"
   },
   {
    "duration": 116,
    "start_time": "2025-02-10T19:36:14.832Z"
   },
   {
    "duration": 8,
    "start_time": "2025-02-10T19:36:14.950Z"
   },
   {
    "duration": 352,
    "start_time": "2025-02-10T19:36:14.960Z"
   },
   {
    "duration": 3,
    "start_time": "2025-02-10T19:36:15.314Z"
   },
   {
    "duration": 5,
    "start_time": "2025-02-10T19:36:15.320Z"
   },
   {
    "duration": 8,
    "start_time": "2025-02-10T19:36:15.327Z"
   },
   {
    "duration": 590,
    "start_time": "2025-02-10T19:36:15.336Z"
   },
   {
    "duration": 3,
    "start_time": "2025-02-10T19:36:15.931Z"
   },
   {
    "duration": 836,
    "start_time": "2025-02-10T19:49:02.801Z"
   },
   {
    "duration": 11,
    "start_time": "2025-02-10T19:49:03.639Z"
   },
   {
    "duration": 4,
    "start_time": "2025-02-10T19:49:03.651Z"
   },
   {
    "duration": 7,
    "start_time": "2025-02-10T19:49:03.658Z"
   },
   {
    "duration": 6,
    "start_time": "2025-02-10T19:49:03.666Z"
   },
   {
    "duration": 6,
    "start_time": "2025-02-10T19:49:03.674Z"
   },
   {
    "duration": 8,
    "start_time": "2025-02-10T19:49:03.681Z"
   },
   {
    "duration": 40,
    "start_time": "2025-02-10T19:49:03.691Z"
   },
   {
    "duration": 6,
    "start_time": "2025-02-10T19:49:03.734Z"
   },
   {
    "duration": 5,
    "start_time": "2025-02-10T19:49:03.743Z"
   },
   {
    "duration": 2,
    "start_time": "2025-02-10T19:49:03.750Z"
   },
   {
    "duration": 3,
    "start_time": "2025-02-10T19:49:03.754Z"
   },
   {
    "duration": 6,
    "start_time": "2025-02-10T19:49:03.759Z"
   },
   {
    "duration": 359,
    "start_time": "2025-02-10T19:49:03.767Z"
   },
   {
    "duration": 2,
    "start_time": "2025-02-10T19:49:04.131Z"
   },
   {
    "duration": 9,
    "start_time": "2025-02-10T19:49:04.135Z"
   },
   {
    "duration": 144,
    "start_time": "2025-02-10T19:49:04.146Z"
   },
   {
    "duration": 8,
    "start_time": "2025-02-10T19:49:04.292Z"
   },
   {
    "duration": 358,
    "start_time": "2025-02-10T19:49:04.302Z"
   },
   {
    "duration": 2,
    "start_time": "2025-02-10T19:49:04.662Z"
   },
   {
    "duration": 7,
    "start_time": "2025-02-10T19:49:04.666Z"
   },
   {
    "duration": 6,
    "start_time": "2025-02-10T19:49:04.675Z"
   },
   {
    "duration": 576,
    "start_time": "2025-02-10T19:49:04.682Z"
   },
   {
    "duration": 2,
    "start_time": "2025-02-10T19:49:05.261Z"
   },
   {
    "duration": 895,
    "start_time": "2025-02-10T20:05:55.346Z"
   },
   {
    "duration": 11,
    "start_time": "2025-02-10T20:05:56.243Z"
   },
   {
    "duration": 5,
    "start_time": "2025-02-10T20:05:56.256Z"
   },
   {
    "duration": 9,
    "start_time": "2025-02-10T20:05:56.263Z"
   },
   {
    "duration": 8,
    "start_time": "2025-02-10T20:05:56.274Z"
   },
   {
    "duration": 6,
    "start_time": "2025-02-10T20:05:56.284Z"
   },
   {
    "duration": 41,
    "start_time": "2025-02-10T20:05:56.292Z"
   },
   {
    "duration": 5,
    "start_time": "2025-02-10T20:05:56.335Z"
   },
   {
    "duration": 5,
    "start_time": "2025-02-10T20:05:56.342Z"
   },
   {
    "duration": 6,
    "start_time": "2025-02-10T20:05:56.349Z"
   },
   {
    "duration": 5,
    "start_time": "2025-02-10T20:05:56.357Z"
   },
   {
    "duration": 339,
    "start_time": "2025-02-10T20:05:56.364Z"
   },
   {
    "duration": 6,
    "start_time": "2025-02-10T20:05:56.705Z"
   },
   {
    "duration": 131,
    "start_time": "2025-02-10T20:05:56.714Z"
   },
   {
    "duration": 8,
    "start_time": "2025-02-10T20:05:56.847Z"
   },
   {
    "duration": 377,
    "start_time": "2025-02-10T20:05:56.857Z"
   },
   {
    "duration": 7,
    "start_time": "2025-02-10T20:05:57.235Z"
   },
   {
    "duration": 6,
    "start_time": "2025-02-10T20:05:57.244Z"
   },
   {
    "duration": 617,
    "start_time": "2025-02-10T20:05:57.252Z"
   },
   {
    "duration": 851,
    "start_time": "2025-02-10T20:42:36.262Z"
   },
   {
    "duration": 16,
    "start_time": "2025-02-10T20:42:37.115Z"
   },
   {
    "duration": 3,
    "start_time": "2025-02-10T20:42:37.133Z"
   },
   {
    "duration": 8,
    "start_time": "2025-02-10T20:42:37.138Z"
   },
   {
    "duration": 6,
    "start_time": "2025-02-10T20:42:37.149Z"
   },
   {
    "duration": 5,
    "start_time": "2025-02-10T20:42:37.156Z"
   },
   {
    "duration": 8,
    "start_time": "2025-02-10T20:42:37.164Z"
   },
   {
    "duration": 6,
    "start_time": "2025-02-10T20:42:37.173Z"
   },
   {
    "duration": 6,
    "start_time": "2025-02-10T20:42:37.181Z"
   },
   {
    "duration": 43,
    "start_time": "2025-02-10T20:42:37.189Z"
   },
   {
    "duration": 6,
    "start_time": "2025-02-10T20:42:37.233Z"
   },
   {
    "duration": 373,
    "start_time": "2025-02-10T20:42:37.241Z"
   },
   {
    "duration": 6,
    "start_time": "2025-02-10T20:42:37.616Z"
   },
   {
    "duration": 131,
    "start_time": "2025-02-10T20:42:37.633Z"
   },
   {
    "duration": 8,
    "start_time": "2025-02-10T20:42:37.766Z"
   },
   {
    "duration": 346,
    "start_time": "2025-02-10T20:42:37.776Z"
   },
   {
    "duration": 14,
    "start_time": "2025-02-10T20:42:38.124Z"
   },
   {
    "duration": 6,
    "start_time": "2025-02-10T20:42:38.140Z"
   },
   {
    "duration": 589,
    "start_time": "2025-02-10T20:42:38.148Z"
   }
  ],
  "kernelspec": {
   "display_name": "Python 3 (ipykernel)",
   "language": "python",
   "name": "python3"
  },
  "language_info": {
   "codemirror_mode": {
    "name": "ipython",
    "version": 3
   },
   "file_extension": ".py",
   "mimetype": "text/x-python",
   "name": "python",
   "nbconvert_exporter": "python",
   "pygments_lexer": "ipython3",
   "version": "3.9.19"
  },
  "toc": {
   "base_numbering": 1,
   "nav_menu": {
    "height": "123px",
    "width": "579px"
   },
   "number_sections": false,
   "sideBar": true,
   "skip_h1_title": false,
   "title_cell": "Table of Contents",
   "title_sidebar": "Contents",
   "toc_cell": false,
   "toc_position": {
    "height": "calc(100% - 180px)",
    "left": "10px",
    "top": "150px",
    "width": "399px"
   },
   "toc_section_display": true,
   "toc_window_display": true
  }
 },
 "nbformat": 4,
 "nbformat_minor": 5
}
